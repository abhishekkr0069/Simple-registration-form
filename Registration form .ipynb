{
 "cells": [
  {
   "cell_type": "code",
   "execution_count": null,
   "id": "1be679a6-e358-4f20-9e66-8d484f0b5120",
   "metadata": {},
   "outputs": [],
   "source": [
    "import tkinter as tk\n",
    "from tkinter import messagebox\n",
    "\n",
    "# Function to handle form submission\n",
    "def submit_form():\n",
    "    name = entry_name.get()\n",
    "    email = entry_email.get()\n",
    "    age = entry_age.get()\n",
    "\n",
    "    if name == \"\" or email == \"\" or age == \"\":\n",
    "        messagebox.showerror(\"Error\", \"All fields are required!\")\n",
    "    else:\n",
    "        messagebox.showinfo(\"Success\", f\"Form Submitted:\\nName: {name}\\nEmail: {email}\\nAge: {age}\")\n",
    "        print(f\"Name: {name}\\nEmail: {email}\\nAge: {age}\")\n",
    "\n",
    "# Create the main window\n",
    "window = tk.Tk()\n",
    "window.title(\"Registration Form\")\n",
    "window.geometry(\"300x200\")\n",
    "\n",
    "# Create labels and entry widgets for the form\n",
    "label_name = tk.Label(window, text=\"Name\")\n",
    "label_name.pack(pady=5)\n",
    "\n",
    "entry_name = tk.Entry(window)\n",
    "entry_name.pack(pady=5)\n",
    "\n",
    "label_email = tk.Label(window, text=\"Email\")\n",
    "label_email.pack(pady=5)\n",
    "\n",
    "entry_email = tk.Entry(window)\n",
    "entry_email.pack(pady=5)\n",
    "\n",
    "label_age = tk.Label(window, text=\"Age\")\n",
    "label_age.pack(pady=5)\n",
    "\n",
    "entry_age = tk.Entry(window)\n",
    "entry_age.pack(pady=5)\n",
    "\n",
    "# Submit button\n",
    "submit_button = tk.Button(window, text=\"Submit\", command=submit_form)\n",
    "submit_button.pack(pady=20)\n",
    "\n",
    "# Run the main loop\n",
    "window.mainloop()\n"
   ]
  },
  {
   "cell_type": "code",
   "execution_count": null,
   "id": "8fd4e27e-6a2f-48bb-bcd2-aaa659bd5832",
   "metadata": {},
   "outputs": [],
   "source": []
  }
 ],
 "metadata": {
  "kernelspec": {
   "display_name": "Python 3 (ipykernel)",
   "language": "python",
   "name": "python3"
  },
  "language_info": {
   "codemirror_mode": {
    "name": "ipython",
    "version": 3
   },
   "file_extension": ".py",
   "mimetype": "text/x-python",
   "name": "python",
   "nbconvert_exporter": "python",
   "pygments_lexer": "ipython3",
   "version": "3.12.4"
  }
 },
 "nbformat": 4,
 "nbformat_minor": 5
}
